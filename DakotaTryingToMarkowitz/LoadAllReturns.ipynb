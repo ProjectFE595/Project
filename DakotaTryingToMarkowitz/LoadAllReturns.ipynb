{
 "cells": [
  {
   "cell_type": "code",
   "execution_count": 1,
   "metadata": {
    "collapsed": true
   },
   "outputs": [],
   "source": [
    "import numpy\n",
    "from pymongo import MongoClient\n",
    "from datetime import datetime, timedelta as td\n",
    "\n",
    "def GetDataSerieFromMongo(stock,startDate='',endDate=''):\n",
    "   \n",
    "    client = MongoClient()\n",
    "    db = client.Project\n",
    "    \n",
    "    if startDate=='' and endDate=='':\n",
    "        data = list(db.HistPrices.find({'BBGTicker':stock})) \n",
    "    else:\n",
    "        d1 = datetime.strptime(startDate, '%Y-%m-%d')\n",
    "        d2 = datetime.strptime(endDate, '%Y-%m-%d') \n",
    "        delta = (d2-d1).days+1\n",
    "        dateList=[]\n",
    "        \n",
    "        for i in range(delta):\n",
    "            dateList.append((d1+td(days=i)).strftime('%Y-%m-%d'))\n",
    "            \n",
    "        data = list(db.HistPrices.find({'Date':{\"$in\":dateList},'BBGTicker':stock})) \n",
    "    \n",
    "    headers= ['BBGTicker','Close','Date','High','Low','Name','Open','Volume','_id']    \n",
    "    records=[]\n",
    "    records.append(headers)\n",
    "    for i in range(len(data)):\n",
    "        records.append([data[i]['BBGTicker'],\n",
    "                        data[i]['Close'],\n",
    "                        data[i]['Date'],\n",
    "                        data[i]['High'],\n",
    "                        data[i]['Low'],\n",
    "                        data[i]['Name'],\n",
    "                        data[i]['Open'],\n",
    "                        data[i]['Volume'],\n",
    "                        data[i]['_id']])\n",
    "        \n",
    "    return numpy.asarray(records)"
   ]
  },
  {
   "cell_type": "code",
   "execution_count": 14,
   "metadata": {
    "collapsed": false
   },
   "outputs": [
    {
     "name": "stdout",
     "output_type": "stream",
     "text": [
      "suck1\n",
      "EXPD\n",
      "ESRX\n",
      "FB\n",
      "FAST\n",
      "FISV\n",
      "GRMN\n",
      "GILD\n",
      "HSIC\n",
      "ILMN\n",
      "INCY\n",
      "INTC\n",
      "INTU\n",
      "ISRG\n",
      "KLAC\n",
      "GMCR\n",
      "KHC\n",
      "LRCX\n",
      "LBTYA\n",
      "LMCA\n",
      "LVNTA\n",
      "LLTC\n",
      "MAR\n",
      "MAT\n",
      "MU\n",
      "MSFT\n",
      "MDLZ\n",
      "MNST\n",
      "MYL\n",
      "NTAP\n",
      "NFLX\n",
      "NVDA\n",
      "ORLY\n",
      "PCAR\n",
      "PAYX\n",
      "QCOM\n",
      "REGN\n",
      "ROST\n",
      "SNDK\n",
      "SBAC\n",
      "STX\n",
      "SIRI\n",
      "SWKS\n",
      "SPLS\n",
      "SBUX\n",
      "SRCL\n",
      "SYMC\n",
      "TSLA\n",
      "TXN\n",
      "PCLN\n",
      "TSCO\n",
      "TRIP\n",
      "VRSK\n",
      "VRTX\n",
      "VIAB\n",
      "VIP\n",
      "VOD\n",
      "WBA\n",
      "WDC\n",
      "WFM\n",
      "WYNN\n",
      "XLNX\n",
      "YHOO\n",
      "FOXA\n",
      "FOX\n",
      "ATVI\n",
      "ADBE\n",
      "AKAM\n",
      "ALXN\n",
      "GOOGL\n",
      "GOOG\n",
      "AMZN\n",
      "AAL\n",
      "AMGN\n",
      "ADI\n",
      "AAPL\n",
      "AMAT\n",
      "ADSK\n",
      "ADP\n",
      "AVGO\n",
      "BIDU\n",
      "BBBY\n",
      "BIIB\n",
      "BMRN\n",
      "BRCM\n",
      "CHRW\n",
      "CA\n",
      "CELG\n",
      "CERN\n",
      "CHTR\n",
      "CHKP\n",
      "CSCO\n",
      "CTXS\n",
      "CTSH\n",
      "CMCSK\n",
      "CMCSA\n",
      "COST\n",
      "DISCA\n",
      "DISCK\n",
      "DISH\n",
      "DLTR\n",
      "EBAY\n",
      "EA\n"
     ]
    }
   ],
   "source": [
    "client = MongoClient()\n",
    "db = client.Project\n",
    "\n",
    "startDate = ''\n",
    "endDate = ''\n",
    "stocks =[x['BBGTicker'] for x in list(db.Stocks.find({}))]\n",
    "\n",
    "AllPrices = [] \n",
    "if startDate=='' and endDate=='':\n",
    "    print(\"suck1\")\n",
    "else:\n",
    "    print(\"suck2\")\n",
    "    #d1 = datetime.strptime(startDate, '%Y-%m-%d')\n",
    "    #d2 = datetime.strptime(endDate, '%Y-%m-%d') \n",
    "    #delta = (d2-d1).days+1\n",
    "    #for i in range(delta):\n",
    "        #db.HistSignals.delete_many({'Date':(d1+td(days=i)).strftime('%Y-%m-%d')})\n",
    "        \n",
    "        \n",
    "for s in stocks:\n",
    "    print(s)\n",
    "    if startDate=='' and endDate=='':\n",
    "        data = GetDataSerieFromMongo(s) \n",
    "    else:\n",
    "        d = (datetime.strptime(startDate, '%Y-%m-%d') - td(days=90)).strftime('%Y-%m-%d')\n",
    "        data = GetDataSerieFromMongo(s,d,endDate)\n",
    "            \n",
    "    AllPrices.append(data)\n",
    "print(\"Get LOST.\")"
   ]
  },
  {
   "cell_type": "code",
   "execution_count": 16,
   "metadata": {
    "collapsed": false
   },
   "outputs": [],
   "source": [
    "#stocks"
   ]
  },
  {
   "cell_type": "code",
   "execution_count": 12,
   "metadata": {
    "collapsed": false
   },
   "outputs": [
    {
     "data": {
      "text/plain": [
       "<pymongo.cursor.Cursor at 0x10cff5198>"
      ]
     },
     "execution_count": 12,
     "metadata": {},
     "output_type": "execute_result"
    }
   ],
   "source": [
    "#db.Stocks.find({})"
   ]
  },
  {
   "cell_type": "code",
   "execution_count": 17,
   "metadata": {
    "collapsed": false
   },
   "outputs": [],
   "source": [
    "#client = MongoClient()\n",
    "#db = client.Project\n",
    "#list(db.Stocks.find({}))"
   ]
  },
  {
   "cell_type": "code",
   "execution_count": 27,
   "metadata": {
    "collapsed": false
   },
   "outputs": [
    {
     "data": {
      "text/plain": [
       "array(['1992-06-09', '1992-06-10', '1992-06-11', ..., '2016-10-12',\n",
       "       '2016-10-13', '2016-10-14'], dtype=object)"
      ]
     },
     "execution_count": 27,
     "metadata": {},
     "output_type": "execute_result"
    }
   ],
   "source": [
    "AllPrices[1][1:,2]"
   ]
  },
  {
   "cell_type": "code",
   "execution_count": 26,
   "metadata": {
    "collapsed": false
   },
   "outputs": [
    {
     "ename": "NameError",
     "evalue": "name 'pd' is not defined",
     "output_type": "error",
     "traceback": [
      "\u001b[0;31m---------------------------------------------------------------------------\u001b[0m",
      "\u001b[0;31mNameError\u001b[0m                                 Traceback (most recent call last)",
      "\u001b[0;32m<ipython-input-26-7fec56d7f0b4>\u001b[0m in \u001b[0;36m<module>\u001b[0;34m()\u001b[0m\n\u001b[0;32m----> 1\u001b[0;31m \u001b[0mpd\u001b[0m\u001b[0;34m.\u001b[0m\u001b[0mDataFrame\u001b[0m\u001b[0;34m(\u001b[0m\u001b[0mdata\u001b[0m\u001b[0;34m=\u001b[0m\u001b[0mAllPrices\u001b[0m\u001b[0;34m[\u001b[0m\u001b[0;36m1\u001b[0m\u001b[0;34m]\u001b[0m\u001b[0;34m[\u001b[0m\u001b[0;36m1\u001b[0m\u001b[0;34m:\u001b[0m\u001b[0;34m,\u001b[0m\u001b[0;36m1\u001b[0m\u001b[0;34m]\u001b[0m\u001b[0;34m,\u001b[0m\u001b[0mindex\u001b[0m\u001b[0;34m=\u001b[0m\u001b[0mAllPrices\u001b[0m\u001b[0;34m[\u001b[0m\u001b[0;36m1\u001b[0m\u001b[0;34m]\u001b[0m\u001b[0;34m[\u001b[0m\u001b[0;36m1\u001b[0m\u001b[0;34m:\u001b[0m\u001b[0;34m,\u001b[0m\u001b[0;36m2\u001b[0m\u001b[0;34m]\u001b[0m\u001b[0;34m,\u001b[0m\u001b[0mcolumns\u001b[0m\u001b[0;34m=\u001b[0m\u001b[0mdata\u001b[0m\u001b[0;34m[\u001b[0m\u001b[0;36m0\u001b[0m\u001b[0;34m,\u001b[0m\u001b[0;36m1\u001b[0m\u001b[0;34m:\u001b[0m\u001b[0;34m]\u001b[0m\u001b[0;34m)\u001b[0m\u001b[0;34m\u001b[0m\u001b[0m\n\u001b[0m",
      "\u001b[0;31mNameError\u001b[0m: name 'pd' is not defined"
     ]
    }
   ],
   "source": []
  },
  {
   "cell_type": "code",
   "execution_count": null,
   "metadata": {
    "collapsed": true
   },
   "outputs": [],
   "source": []
  }
 ],
 "metadata": {
  "anaconda-cloud": {},
  "kernelspec": {
   "display_name": "Python [Root]",
   "language": "python",
   "name": "Python [Root]"
  },
  "language_info": {
   "codemirror_mode": {
    "name": "ipython",
    "version": 3
   },
   "file_extension": ".py",
   "mimetype": "text/x-python",
   "name": "python",
   "nbconvert_exporter": "python",
   "pygments_lexer": "ipython3",
   "version": "3.5.2"
  }
 },
 "nbformat": 4,
 "nbformat_minor": 0
}
