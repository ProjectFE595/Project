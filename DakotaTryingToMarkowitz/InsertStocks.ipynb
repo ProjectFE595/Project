{
 "cells": [
  {
   "cell_type": "code",
   "execution_count": 4,
   "metadata": {
    "collapsed": true
   },
   "outputs": [],
   "source": [
    "from pymongo import MongoClient\n",
    "\n",
    "def ReloadStocks():\n",
    "    client = MongoClient()\n",
    "    db = client.Project\n",
    "    \n",
    "    db.Stocks.delete_many({})\n",
    "    print(\"1\")\n",
    "    db.Stocks.insert_many([{'QuandlID':'WIKI/FOXA','BBGTicker':'FOXA', 'Name' :'21ST CENTRY FOX A CM'}])\n",
    "    db.Stocks.insert_many([{'QuandlID':'WIKI/FOX','BBGTicker':'FOX', 'Name' :'21ST CENTRY FOX B CM'}])\n",
    "    db.Stocks.insert_many([{'QuandlID':'WIKI/ATVI','BBGTicker':'ATVI', 'Name' :'ACTIVISION BLIZZARD'}])\n",
    "    db.Stocks.insert_many([{'QuandlID':'WIKI/ADBE','BBGTicker':'ADBE', 'Name' :'ADOBE SYSTEMS INC'}])\n",
    "    db.Stocks.insert_many([{'QuandlID':'WIKI/AKAM','BBGTicker':'AKAM', 'Name' :'AKAMAI TECHNOLOGIES'}])\n",
    "    db.Stocks.insert_many([{'QuandlID':'WIKI/ALXN','BBGTicker':'ALXN', 'Name' :'ALEXION PHARM INC'}])\n",
    "    db.Stocks.insert_many([{'QuandlID':'WIKI/GOOGL','BBGTicker':'GOOGL', 'Name' :'ALPHABET CL A CMN'}])\n",
    "    db.Stocks.insert_many([{'QuandlID':'WIKI/GOOG','BBGTicker':'GOOG', 'Name' :'ALPHABET CL C CAP'}])\n",
    "    db.Stocks.insert_many([{'QuandlID':'WIKI/AMZN','BBGTicker':'AMZN', 'Name' :'AMAZON.COM INC'}])\n",
    "    db.Stocks.insert_many([{'QuandlID':'WIKI/AAL','BBGTicker':'AAL', 'Name' :'AMERICAN AIRLINES GP'}])\n",
    "    db.Stocks.insert_many([{'QuandlID':'WIKI/AMGN','BBGTicker':'AMGN', 'Name' :'AMGEN'}])\n",
    "    db.Stocks.insert_many([{'QuandlID':'WIKI/ADI','BBGTicker':'ADI', 'Name' :'ANALOG DEVICES CMN'}])\n",
    "    db.Stocks.insert_many([{'QuandlID':'WIKI/AAPL','BBGTicker':'AAPL', 'Name' :'APPLE INC.'}])\n",
    "    print(\"2\")\n",
    "    db.Stocks.insert_many([{'QuandlID':'WIKI/AMAT','BBGTicker':'AMAT', 'Name' :'APPLIED MATERIALS'}])\n",
    "    db.Stocks.insert_many([{'QuandlID':'WIKI/ADSK','BBGTicker':'ADSK', 'Name' :'AUTODESK INC'}])\n",
    "    db.Stocks.insert_many([{'QuandlID':'WIKI/ADP','BBGTicker':'ADP', 'Name' :'AUTOMATIC DATA PROCS'}])\n",
    "    db.Stocks.insert_many([{'QuandlID':'WIKI/AVGO','BBGTicker':'AVGO', 'Name' :'AVAGO TECHNOLOGIES L'}])\n",
    "    db.Stocks.insert_many([{'QuandlID':'WIKI/BIDU','BBGTicker':'BIDU', 'Name' :'BAIDU INC.'}])\n",
    "    db.Stocks.insert_many([{'QuandlID':'WIKI/BBBY','BBGTicker':'BBBY', 'Name' :'BED BATH & BEYOND'}])\n",
    "    db.Stocks.insert_many([{'QuandlID':'WIKI/BIIB','BBGTicker':'BIIB', 'Name' :'BIOGEN INC CMN'}])\n",
    "    db.Stocks.insert_many([{'QuandlID':'WIKI/BMRN','BBGTicker':'BMRN', 'Name' :'BIOMARIN PHARMACEUT'}])\n",
    "    db.Stocks.insert_many([{'QuandlID':'WIKI/BRCM','BBGTicker':'BRCM', 'Name' :'BROADCOM CORP'}])\n",
    "    db.Stocks.insert_many([{'QuandlID':'WIKI/CHRW','BBGTicker':'CHRW', 'Name' :'C.H. ROBINSON WW'}])\n",
    "    db.Stocks.insert_many([{'QuandlID':'WIKI/CA','BBGTicker':'CA', 'Name' :'CA INC'}])\n",
    "    db.Stocks.insert_many([{'QuandlID':'WIKI/CELG','BBGTicker':'CELG', 'Name' :'CELGENE CORP'}])\n",
    "    db.Stocks.insert_many([{'QuandlID':'WIKI/CERN','BBGTicker':'CERN', 'Name' :'CERNER CORP'}])\n",
    "    db.Stocks.insert_many([{'QuandlID':'WIKI/CHTR','BBGTicker':'CHTR', 'Name' :'CHARTER COMMUNICATIO'}])\n",
    "    db.Stocks.insert_many([{'QuandlID':'WIKI/CHKP','BBGTicker':'CHKP', 'Name' :'CHECK POINT SOFTWARE'}])\n",
    "    db.Stocks.insert_many([{'QuandlID':'WIKI/CSCO','BBGTicker':'CSCO', 'Name' :'CISCO SYSTEMS INC'}])\n",
    "    db.Stocks.insert_many([{'QuandlID':'WIKI/CTXS','BBGTicker':'CTXS', 'Name' :'CITRIX SYSTEMS INC'}])\n",
    "    db.Stocks.insert_many([{'QuandlID':'WIKI/CTSH','BBGTicker':'CTSH', 'Name' :'COGNIZANT TECH SOL'}])\n",
    "    db.Stocks.insert_many([{'QuandlID':'WIKI/CMCSK','BBGTicker':'CMCSK', 'Name' :'COMCAST CL A SPCL'}])\n",
    "    db.Stocks.insert_many([{'QuandlID':'WIKI/CMCSA','BBGTicker':'CMCSA', 'Name' :'COMCAST CORP A'}])\n",
    "    db.Stocks.insert_many([{'QuandlID':'WIKI/COST','BBGTicker':'COST', 'Name' :'COSTCO WHOLESALE'}])\n",
    "    print(\"3\")\n",
    "    db.Stocks.insert_many([{'QuandlID':'WIKI/DISCA','BBGTicker':'DISCA', 'Name' :'DISCOVERY COMM A'}])\n",
    "    db.Stocks.insert_many([{'QuandlID':'WIKI/DISCK','BBGTicker':'DISCK', 'Name' :'DISCOVERY COMM INC'}])\n",
    "    db.Stocks.insert_many([{'QuandlID':'WIKI/DISH','BBGTicker':'DISH', 'Name' :'DISH NETWORK CORP'}])\n",
    "    db.Stocks.insert_many([{'QuandlID':'WIKI/DLTR','BBGTicker':'DLTR', 'Name' :'DOLLAR TREE INC'}])\n",
    "    db.Stocks.insert_many([{'QuandlID':'WIKI/EBAY','BBGTicker':'EBAY', 'Name' :'EBAY INC.'}])\n",
    "    db.Stocks.insert_many([{'QuandlID':'WIKI/EA','BBGTicker':'EA', 'Name' :'ELECTRONIC ARTS INC'}])\n",
    "    db.Stocks.insert_many([{'QuandlID':'WIKI/EXPD','BBGTicker':'EXPD', 'Name' :'EXPEDITORS INTL'}])\n",
    "    db.Stocks.insert_many([{'QuandlID':'WIKI/ESRX','BBGTicker':'ESRX', 'Name' :'EXPRESS SCRIPTS'}])\n",
    "    db.Stocks.insert_many([{'QuandlID':'WIKI/FB','BBGTicker':'FB', 'Name' :'FACEBOOK INC'}])\n",
    "    db.Stocks.insert_many([{'QuandlID':'WIKI/FAST','BBGTicker':'FAST', 'Name' :'FASTENAL CO'}])\n",
    "    db.Stocks.insert_many([{'QuandlID':'WIKI/FISV','BBGTicker':'FISV', 'Name' :'FISERV INC.'}])\n",
    "    db.Stocks.insert_many([{'QuandlID':'WIKI/GRMN','BBGTicker':'GRMN', 'Name' :'GARMIN LTD'}])\n",
    "    print(\"4\")\n",
    "    db.Stocks.insert_many([{'QuandlID':'WIKI/GILD','BBGTicker':'GILD', 'Name' :'GILEAD SCIENCES INC'}])\n",
    "    db.Stocks.insert_many([{'QuandlID':'WIKI/HSIC','BBGTicker':'HSIC', 'Name' :'HENRY SCHEIN INC.'}])\n",
    "    db.Stocks.insert_many([{'QuandlID':'WIKI/ILMN','BBGTicker':'ILMN', 'Name' :'ILLUMINA INC.'}])\n",
    "    db.Stocks.insert_many([{'QuandlID':'WIKI/INCY','BBGTicker':'INCY', 'Name' :'INCYTE CORPORATION'}])\n",
    "    db.Stocks.insert_many([{'QuandlID':'WIKI/INTC','BBGTicker':'INTC', 'Name' :'INTEL CORP'}])\n",
    "    db.Stocks.insert_many([{'QuandlID':'WIKI/INTU','BBGTicker':'INTU', 'Name' :'INTUIT INC'}])\n",
    "    db.Stocks.insert_many([{'QuandlID':'WIKI/ISRG','BBGTicker':'ISRG', 'Name' :'INTUITIVE SURG INC.'}])\n",
    "    db.Stocks.insert_many([{'QuandlID':'WIKI/KLAC','BBGTicker':'KLAC', 'Name' :'K L A-TENCOR CORP'}])\n",
    "    db.Stocks.insert_many([{'QuandlID':'WIKI/GMCR','BBGTicker':'GMCR', 'Name' :'KEURIG GREEN MTN CMN'}])\n",
    "    db.Stocks.insert_many([{'QuandlID':'WIKI/KHC','BBGTicker':'KHC', 'Name' :'KRAFT HEINZ CO CMN'}])\n",
    "    db.Stocks.insert_many([{'QuandlID':'WIKI/LRCX','BBGTicker':'LRCX', 'Name' :'LAM RESEARCH CORP'}])\n",
    "    db.Stocks.insert_many([{'QuandlID':'WIKI/LBTYA','BBGTicker':'LBTYA', 'Name' :'LIBERTY GLOBAL ORD A'}])\n",
    "    #db.Stocks.insert_many([{'QuandlID':'WIKI/LBTYK','BBGTicker':'LBTYK', 'Name' :'LIBERTY GLOBAL ORD C'}])\n",
    "    #db.Stocks.insert_many([{'QuandlID':'GOOG/NASDAQ_LMCK','BBGTicker':'LMCK', 'Name' :'LIBERTY MEDIA C'}])\n",
    "    db.Stocks.insert_many([{'QuandlID':'WIKI/LMCA','BBGTicker':'LMCA', 'Name' :'LIBERTY MEDIA SRS A'}])\n",
    "    db.Stocks.insert_many([{'QuandlID':'WIKI/LVNTA','BBGTicker':'LVNTA', 'Name' :'LIBERTY VNTRS SRS A'}])\n",
    "    print(\"5\")\n",
    "    db.Stocks.insert_many([{'QuandlID':'WIKI/LLTC','BBGTicker':'LLTC', 'Name' :'LINEAR TECHNOLOGY'}])\n",
    "    db.Stocks.insert_many([{'QuandlID':'WIKI/MAR','BBGTicker':'MAR', 'Name' :'MARRIOT INT CL A'}])\n",
    "    db.Stocks.insert_many([{'QuandlID':'WIKI/MAT','BBGTicker':'MAT', 'Name' :'MATTEL INC'}])\n",
    "    db.Stocks.insert_many([{'QuandlID':'WIKI/MU','BBGTicker':'MU', 'Name' :'MICRON TECHNOLOGY'}])\n",
    "    db.Stocks.insert_many([{'QuandlID':'WIKI/MSFT','BBGTicker':'MSFT', 'Name' :'MICROSOFT CORP'}])\n",
    "    db.Stocks.insert_many([{'QuandlID':'WIKI/MDLZ','BBGTicker':'MDLZ', 'Name' :'MONDELEZ INTL CMN A'}])\n",
    "    db.Stocks.insert_many([{'QuandlID':'WIKI/MNST','BBGTicker':'MNST', 'Name' :'MONSTER BEVERAGE CP'}])\n",
    "    db.Stocks.insert_many([{'QuandlID':'WIKI/MYL','BBGTicker':'MYL', 'Name' :'MYLAN NV ORD SHS'}])\n",
    "    db.Stocks.insert_many([{'QuandlID':'WIKI/NTAP','BBGTicker':'NTAP', 'Name' :'NETAPP INC.'}])\n",
    "    db.Stocks.insert_many([{'QuandlID':'WIKI/NFLX','BBGTicker':'NFLX', 'Name' :'NETFLIX INC.'}])\n",
    "    db.Stocks.insert_many([{'QuandlID':'WIKI/NVDA','BBGTicker':'NVDA', 'Name' :'NVIDIA CORPORATION'}])\n",
    "    #db.Stocks.insert_many([{'QuandlID':'WIKI/NXPI','BBGTicker':'NXPI', 'Name' :'NXP SEMICONDUCTORS'}])\n",
    "    db.Stocks.insert_many([{'QuandlID':'WIKI/ORLY','BBGTicker':'ORLY', 'Name' :'OREILLY AUTOMOTIVE'}])\n",
    "    print(\"6\")\n",
    "    db.Stocks.insert_many([{'QuandlID':'WIKI/PCAR','BBGTicker':'PCAR', 'Name' :'PACCAR INC.'}])\n",
    "    db.Stocks.insert_many([{'QuandlID':'WIKI/PAYX','BBGTicker':'PAYX', 'Name' :'PAYCHEX INC.'}])\n",
    "    db.Stocks.insert_many([{'QuandlID':'WIKI/QCOM','BBGTicker':'QCOM', 'Name' :'QUALCOMM INC'}])\n",
    "    db.Stocks.insert_many([{'QuandlID':'WIKI/REGN','BBGTicker':'REGN', 'Name' :'REGENERON PHARMACEUT'}])\n",
    "    db.Stocks.insert_many([{'QuandlID':'WIKI/ROST','BBGTicker':'ROST', 'Name' :'ROSS STORES INC.'}])\n",
    "    db.Stocks.insert_many([{'QuandlID':'WIKI/SNDK','BBGTicker':'SNDK', 'Name' :'SANDISK CORPORATION'}])\n",
    "    db.Stocks.insert_many([{'QuandlID':'WIKI/SBAC','BBGTicker':'SBAC', 'Name' :'SBA COMMUNICATIONS'}])\n",
    "    db.Stocks.insert_many([{'QuandlID':'WIKI/STX','BBGTicker':'STX', 'Name' :'SEAGATE TECHNOLOGY'}])\n",
    "    db.Stocks.insert_many([{'QuandlID':'WIKI/SIRI','BBGTicker':'SIRI', 'Name' :'SIRIUS XM HOLDINGS I'}])\n",
    "    print(\"7\")\n",
    "    db.Stocks.insert_many([{'QuandlID':'WIKI/SWKS','BBGTicker':'SWKS', 'Name' :'SKYWORKS SOLUTIONS'}])\n",
    "    db.Stocks.insert_many([{'QuandlID':'WIKI/SPLS','BBGTicker':'SPLS', 'Name' :'STAPLES INC.'}])\n",
    "    db.Stocks.insert_many([{'QuandlID':'WIKI/SBUX','BBGTicker':'SBUX', 'Name' :'STARBUCKS CORP'}])\n",
    "    db.Stocks.insert_many([{'QuandlID':'WIKI/SRCL','BBGTicker':'SRCL', 'Name' :'STERICYCLE INC.'}])\n",
    "    db.Stocks.insert_many([{'QuandlID':'WIKI/SYMC','BBGTicker':'SYMC', 'Name' :'SYMANTEC CORPORATION'}])\n",
    "    db.Stocks.insert_many([{'QuandlID':'WIKI/TSLA','BBGTicker':'TSLA', 'Name' :'TESLA MOTORS INC'}])\n",
    "    db.Stocks.insert_many([{'QuandlID':'WIKI/TXN','BBGTicker':'TXN', 'Name' :'TEXAS INSTRUMENTS'}])\n",
    "    db.Stocks.insert_many([{'QuandlID':'WIKI/PCLN','BBGTicker':'PCLN', 'Name' :'THE PRICELINE GP CM'}])\n",
    "    db.Stocks.insert_many([{'QuandlID':'WIKI/TSCO','BBGTicker':'TSCO', 'Name' :'TRACTOR SUPPLY CO'}])\n",
    "    print(\"8\")\n",
    "    db.Stocks.insert_many([{'QuandlID':'WIKI/TRIP','BBGTicker':'TRIP', 'Name' :'TRIPADVISOR INC.'}])\n",
    "    db.Stocks.insert_many([{'QuandlID':'WIKI/VRSK','BBGTicker':'VRSK', 'Name' :'VERISK ANALYTICS INC'}])\n",
    "    db.Stocks.insert_many([{'QuandlID':'WIKI/VRTX','BBGTicker':'VRTX', 'Name' :'VERTEX PHARMACEUTIC'}])\n",
    "    db.Stocks.insert_many([{'QuandlID':'WIKI/VIAB','BBGTicker':'VIAB', 'Name' :'VIACOM INC CL B'}])\n",
    "    db.Stocks.insert_many([{'QuandlID':'GOOG/NASDAQ_VIP','BBGTicker':'VIP', 'Name' :'VIMPELCOM LTD'}])\n",
    "    db.Stocks.insert_many([{'QuandlID':'WIKI/VOD','BBGTicker':'VOD', 'Name' :'VODAFONE GRP PLC ADS'}])\n",
    "    db.Stocks.insert_many([{'QuandlID':'WIKI/WBA','BBGTicker':'WBA', 'Name' :'WALGREENS BTS ALN CM'}])\n",
    "    db.Stocks.insert_many([{'QuandlID':'WIKI/WDC','BBGTicker':'WDC', 'Name' :'WESTERN DIGITAL CP'}])\n",
    "    db.Stocks.insert_many([{'QuandlID':'WIKI/WFM','BBGTicker':'WFM', 'Name' :'WHOLE FOODS MARKET'}])\n",
    "    db.Stocks.insert_many([{'QuandlID':'WIKI/WYNN','BBGTicker':'WYNN', 'Name' :'WYNN RESORTS LIMITED'}])\n",
    "    db.Stocks.insert_many([{'QuandlID':'WIKI/XLNX','BBGTicker':'XLNX', 'Name' :'XILINX INC.'}])\n",
    "    db.Stocks.insert_many([{'QuandlID':'WIKI/YHOO','BBGTicker':'YHOO', 'Name' :'YAHOO! INC.'}])\n",
    "    print(\"Finito. Fuckhead.\")"
   ]
  },
  {
   "cell_type": "code",
   "execution_count": 10,
   "metadata": {
    "collapsed": false
   },
   "outputs": [
    {
     "name": "stdout",
     "output_type": "stream",
     "text": [
      "Let's go baby\n",
      "1\n",
      "2\n",
      "3\n",
      "4\n",
      "5\n",
      "6\n",
      "7\n",
      "8\n",
      "Finito. Fuckhead.\n",
      "Aight foo\n"
     ]
    }
   ],
   "source": [
    "print(\"Let's go baby\")\n",
    "ReloadStocks()\n",
    "print(\"Aight foo\")\n"
   ]
  },
  {
   "cell_type": "code",
   "execution_count": null,
   "metadata": {
    "collapsed": false
   },
   "outputs": [],
   "source": []
  },
  {
   "cell_type": "code",
   "execution_count": null,
   "metadata": {
    "collapsed": false
   },
   "outputs": [],
   "source": []
  },
  {
   "cell_type": "code",
   "execution_count": null,
   "metadata": {
    "collapsed": true
   },
   "outputs": [],
   "source": []
  }
 ],
 "metadata": {
  "kernelspec": {
   "display_name": "Python [Root]",
   "language": "python",
   "name": "Python [Root]"
  },
  "language_info": {
   "codemirror_mode": {
    "name": "ipython",
    "version": 3
   },
   "file_extension": ".py",
   "mimetype": "text/x-python",
   "name": "python",
   "nbconvert_exporter": "python",
   "pygments_lexer": "ipython3",
   "version": "3.5.2"
  }
 },
 "nbformat": 4,
 "nbformat_minor": 0
}
