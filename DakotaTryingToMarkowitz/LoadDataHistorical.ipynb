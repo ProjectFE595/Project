{
 "cells": [
  {
   "cell_type": "code",
   "execution_count": 6,
   "metadata": {
    "collapsed": false
   },
   "outputs": [],
   "source": [
    "import quandl\n",
    "\n",
    "from pymongo import MongoClient\n",
    "from bson.json_util import loads\n",
    "import time\n",
    "\n",
    "def LoadPricesInMongo(today=''):\n",
    "    \n",
    "    client = MongoClient()\n",
    "    db = client.Project\n",
    "    \n",
    "    quandlIDs= []\n",
    "    quandlIDDict = list(db.Stocks.find({},{\"QuandlID\":1,\"BBGTicker\":1,\"Name\":1,\"_id\":0}))\n",
    "    for i in range(len(quandlIDDict)):\n",
    "        quandlIDs.append([quandlIDDict[i]['BBGTicker'],\n",
    "                        quandlIDDict[i]['QuandlID'],\n",
    "                        quandlIDDict[i]['Name']])\n",
    "        \n",
    "    if today=='':\n",
    "        db.HistPrices.delete_many({})\n",
    "    else:\n",
    "        db.HistPrices.delete_many({'Date':str(today)})\n",
    "    apiCall=1\n",
    "    \n",
    "    for stock in quandlIDs:\n",
    "        print(stock)\n",
    "        #if apiCall%19 == 0:\n",
    "            #time.sleep(15*60) #sleep 15 min\n",
    "        quandl.ApiConfig.api_key = \"XjcRZJvcrRDyzTzjdGBR\" # Dakota's API Key\n",
    "        apiCall = apiCall+1\n",
    "        if today=='':\n",
    "            histPrice = quandl.get(stock[1])\n",
    "        else:\n",
    "            histPrice = quandl.get(stock[1], start_date=today, end_date=today)\n",
    "        histPrice['Date'] = histPrice.index.values\n",
    "        histPrice['Date'] = histPrice['Date'].apply(lambda x: x.strftime('%Y-%m-%d'))\n",
    "        histPrice = histPrice[['Date','Close','Open','High','Low','Volume']]\n",
    "        histPrice['BBGTicker'] = stock[0]\n",
    "        histPrice['Name'] = stock[2]\n",
    "        histPrice['QuandlID'] = stock[1]\n",
    "        if not histPrice.empty:\n",
    "            records = loads(histPrice.to_json(orient='records'))\n",
    "            db.HistPrices.insert_many(records)\n",
    "            db.Stocks.delete_many({\"BBGTicker\": stock[0]})"
   ]
  },
  {
   "cell_type": "code",
   "execution_count": 7,
   "metadata": {
    "collapsed": false
   },
   "outputs": [
    {
     "name": "stdout",
     "output_type": "stream",
     "text": [
      "['EXPD', 'WIKI/EXPD', 'EXPEDITORS INTL']\n",
      "['ESRX', 'WIKI/ESRX', 'EXPRESS SCRIPTS']\n",
      "['FB', 'WIKI/FB', 'FACEBOOK INC']\n",
      "['FAST', 'WIKI/FAST', 'FASTENAL CO']\n",
      "['FISV', 'WIKI/FISV', 'FISERV INC.']\n",
      "['GRMN', 'WIKI/GRMN', 'GARMIN LTD']\n",
      "['GILD', 'WIKI/GILD', 'GILEAD SCIENCES INC']\n",
      "['HSIC', 'WIKI/HSIC', 'HENRY SCHEIN INC.']\n",
      "['ILMN', 'WIKI/ILMN', 'ILLUMINA INC.']\n",
      "['INCY', 'WIKI/INCY', 'INCYTE CORPORATION']\n",
      "['INTC', 'WIKI/INTC', 'INTEL CORP']\n",
      "['INTU', 'WIKI/INTU', 'INTUIT INC']\n",
      "['ISRG', 'WIKI/ISRG', 'INTUITIVE SURG INC.']\n",
      "['KLAC', 'WIKI/KLAC', 'K L A-TENCOR CORP']\n",
      "['GMCR', 'WIKI/GMCR', 'KEURIG GREEN MTN CMN']\n",
      "['KHC', 'WIKI/KHC', 'KRAFT HEINZ CO CMN']\n",
      "['LRCX', 'WIKI/LRCX', 'LAM RESEARCH CORP']\n",
      "['LBTYA', 'WIKI/LBTYA', 'LIBERTY GLOBAL ORD A']\n",
      "['LMCA', 'WIKI/LMCA', 'LIBERTY MEDIA SRS A']\n",
      "['LVNTA', 'WIKI/LVNTA', 'LIBERTY VNTRS SRS A']\n",
      "['LLTC', 'WIKI/LLTC', 'LINEAR TECHNOLOGY']\n",
      "['MAR', 'WIKI/MAR', 'MARRIOT INT CL A']\n",
      "['MAT', 'WIKI/MAT', 'MATTEL INC']\n",
      "['MU', 'WIKI/MU', 'MICRON TECHNOLOGY']\n",
      "['MSFT', 'WIKI/MSFT', 'MICROSOFT CORP']\n",
      "['MDLZ', 'WIKI/MDLZ', 'MONDELEZ INTL CMN A']\n",
      "['MNST', 'WIKI/MNST', 'MONSTER BEVERAGE CP']\n",
      "['MYL', 'WIKI/MYL', 'MYLAN NV ORD SHS']\n",
      "['NTAP', 'WIKI/NTAP', 'NETAPP INC.']\n",
      "['NFLX', 'WIKI/NFLX', 'NETFLIX INC.']\n",
      "['NVDA', 'WIKI/NVDA', 'NVIDIA CORPORATION']\n",
      "['ORLY', 'WIKI/ORLY', 'OREILLY AUTOMOTIVE']\n",
      "['PCAR', 'WIKI/PCAR', 'PACCAR INC.']\n",
      "['PAYX', 'WIKI/PAYX', 'PAYCHEX INC.']\n",
      "['QCOM', 'WIKI/QCOM', 'QUALCOMM INC']\n",
      "['REGN', 'WIKI/REGN', 'REGENERON PHARMACEUT']\n",
      "['ROST', 'WIKI/ROST', 'ROSS STORES INC.']\n",
      "['SNDK', 'WIKI/SNDK', 'SANDISK CORPORATION']\n",
      "['SBAC', 'WIKI/SBAC', 'SBA COMMUNICATIONS']\n",
      "['STX', 'WIKI/STX', 'SEAGATE TECHNOLOGY']\n",
      "['SIRI', 'WIKI/SIRI', 'SIRIUS XM HOLDINGS I']\n",
      "['SWKS', 'WIKI/SWKS', 'SKYWORKS SOLUTIONS']\n",
      "['SPLS', 'WIKI/SPLS', 'STAPLES INC.']\n",
      "['SBUX', 'WIKI/SBUX', 'STARBUCKS CORP']\n",
      "['SRCL', 'WIKI/SRCL', 'STERICYCLE INC.']\n",
      "['SYMC', 'WIKI/SYMC', 'SYMANTEC CORPORATION']\n",
      "['TSLA', 'WIKI/TSLA', 'TESLA MOTORS INC']\n",
      "['TXN', 'WIKI/TXN', 'TEXAS INSTRUMENTS']\n",
      "['PCLN', 'WIKI/PCLN', 'THE PRICELINE GP CM']\n",
      "['TSCO', 'WIKI/TSCO', 'TRACTOR SUPPLY CO']\n",
      "['TRIP', 'WIKI/TRIP', 'TRIPADVISOR INC.']\n",
      "['VRSK', 'WIKI/VRSK', 'VERISK ANALYTICS INC']\n",
      "['VRTX', 'WIKI/VRTX', 'VERTEX PHARMACEUTIC']\n",
      "['VIAB', 'WIKI/VIAB', 'VIACOM INC CL B']\n",
      "['VIP', 'GOOG/NASDAQ_VIP', 'VIMPELCOM LTD']\n",
      "['VOD', 'WIKI/VOD', 'VODAFONE GRP PLC ADS']\n",
      "['WBA', 'WIKI/WBA', 'WALGREENS BTS ALN CM']\n",
      "['WDC', 'WIKI/WDC', 'WESTERN DIGITAL CP']\n",
      "['WFM', 'WIKI/WFM', 'WHOLE FOODS MARKET']\n",
      "['WYNN', 'WIKI/WYNN', 'WYNN RESORTS LIMITED']\n",
      "['XLNX', 'WIKI/XLNX', 'XILINX INC.']\n",
      "['YHOO', 'WIKI/YHOO', 'YAHOO! INC.']\n",
      "['FOXA', 'WIKI/FOXA', '21ST CENTRY FOX A CM']\n",
      "['FOX', 'WIKI/FOX', '21ST CENTRY FOX B CM']\n",
      "['ATVI', 'WIKI/ATVI', 'ACTIVISION BLIZZARD']\n",
      "['ADBE', 'WIKI/ADBE', 'ADOBE SYSTEMS INC']\n",
      "['AKAM', 'WIKI/AKAM', 'AKAMAI TECHNOLOGIES']\n",
      "['ALXN', 'WIKI/ALXN', 'ALEXION PHARM INC']\n",
      "['GOOGL', 'WIKI/GOOGL', 'ALPHABET CL A CMN']\n",
      "['GOOG', 'WIKI/GOOG', 'ALPHABET CL C CAP']\n",
      "['AMZN', 'WIKI/AMZN', 'AMAZON.COM INC']\n",
      "['AAL', 'WIKI/AAL', 'AMERICAN AIRLINES GP']\n",
      "['AMGN', 'WIKI/AMGN', 'AMGEN']\n",
      "['ADI', 'WIKI/ADI', 'ANALOG DEVICES CMN']\n",
      "['AAPL', 'WIKI/AAPL', 'APPLE INC.']\n",
      "['AMAT', 'WIKI/AMAT', 'APPLIED MATERIALS']\n",
      "['ADSK', 'WIKI/ADSK', 'AUTODESK INC']\n",
      "['ADP', 'WIKI/ADP', 'AUTOMATIC DATA PROCS']\n",
      "['AVGO', 'WIKI/AVGO', 'AVAGO TECHNOLOGIES L']\n",
      "['BIDU', 'WIKI/BIDU', 'BAIDU INC.']\n",
      "['BBBY', 'WIKI/BBBY', 'BED BATH & BEYOND']\n",
      "['BIIB', 'WIKI/BIIB', 'BIOGEN INC CMN']\n",
      "['BMRN', 'WIKI/BMRN', 'BIOMARIN PHARMACEUT']\n",
      "['BRCM', 'WIKI/BRCM', 'BROADCOM CORP']\n",
      "['CHRW', 'WIKI/CHRW', 'C.H. ROBINSON WW']\n",
      "['CA', 'WIKI/CA', 'CA INC']\n",
      "['CELG', 'WIKI/CELG', 'CELGENE CORP']\n",
      "['CERN', 'WIKI/CERN', 'CERNER CORP']\n",
      "['CHTR', 'WIKI/CHTR', 'CHARTER COMMUNICATIO']\n",
      "['CHKP', 'WIKI/CHKP', 'CHECK POINT SOFTWARE']\n",
      "['CSCO', 'WIKI/CSCO', 'CISCO SYSTEMS INC']\n",
      "['CTXS', 'WIKI/CTXS', 'CITRIX SYSTEMS INC']\n",
      "['CTSH', 'WIKI/CTSH', 'COGNIZANT TECH SOL']\n",
      "['CMCSK', 'WIKI/CMCSK', 'COMCAST CL A SPCL']\n",
      "['CMCSA', 'WIKI/CMCSA', 'COMCAST CORP A']\n",
      "['COST', 'WIKI/COST', 'COSTCO WHOLESALE']\n",
      "['DISCA', 'WIKI/DISCA', 'DISCOVERY COMM A']\n",
      "['DISCK', 'WIKI/DISCK', 'DISCOVERY COMM INC']\n",
      "['DISH', 'WIKI/DISH', 'DISH NETWORK CORP']\n",
      "['DLTR', 'WIKI/DLTR', 'DOLLAR TREE INC']\n",
      "['EBAY', 'WIKI/EBAY', 'EBAY INC.']\n",
      "['EA', 'WIKI/EA', 'ELECTRONIC ARTS INC']\n"
     ]
    }
   ],
   "source": [
    "LoadPricesInMongo()"
   ]
  },
  {
   "cell_type": "code",
   "execution_count": 8,
   "metadata": {
    "collapsed": false
   },
   "outputs": [
    {
     "name": "stdout",
     "output_type": "stream",
     "text": [
      "Yo dawg\n"
     ]
    }
   ],
   "source": [
    "print(\"Yo dawg\")"
   ]
  },
  {
   "cell_type": "code",
   "execution_count": null,
   "metadata": {
    "collapsed": true
   },
   "outputs": [],
   "source": []
  }
 ],
 "metadata": {
  "anaconda-cloud": {},
  "kernelspec": {
   "display_name": "Python [Root]",
   "language": "python",
   "name": "Python [Root]"
  },
  "language_info": {
   "codemirror_mode": {
    "name": "ipython",
    "version": 3
   },
   "file_extension": ".py",
   "mimetype": "text/x-python",
   "name": "python",
   "nbconvert_exporter": "python",
   "pygments_lexer": "ipython3",
   "version": "3.5.2"
  }
 },
 "nbformat": 4,
 "nbformat_minor": 0
}
