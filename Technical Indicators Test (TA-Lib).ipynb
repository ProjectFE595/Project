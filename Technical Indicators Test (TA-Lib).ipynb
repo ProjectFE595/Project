{
 "cells": [
  {
   "cell_type": "code",
   "execution_count": 14,
   "metadata": {
    "collapsed": false
   },
   "outputs": [],
   "source": [
    "import numpy\n",
    "# Make sure TA-Lib AND the actual python library are BOTH installed on your computer\n",
    "import talib\n",
    "# Import Quandl Package\n",
    "import quandl\n",
    "\n",
    "# Get data from Quandl\n",
    "stock = \"XLY\"\n",
    "histPrice = quandl.get(\"YAHOO/\"+stock) # Consumer Discretionary SP500 Sector ETF\n",
    "histPrice['Date'] = histPrice.index.values\n",
    "histPrice['Date'] = histPrice['Date'].apply(lambda x: x.strftime('%Y-%m-%d'))\n",
    "histPrice = histPrice[['Date','Close','Open','High','Low','Volume']]"
   ]
  },
  {
   "cell_type": "code",
   "execution_count": 25,
   "metadata": {
    "collapsed": false
   },
   "outputs": [],
   "source": [
    "header = [histPrice]\n",
    "header.append('SMA')\n",
    "header.append('EMA')\n",
    "header.append('KAMA')\n",
    "header.append('ADX')\n",
    "header.append('RSI')\n",
    "header.append('CCI')\n",
    "header.append('MACD')\n",
    "header.append('MACDSIGNAL')\n",
    "header.append('MACDHIST')    \n",
    "header.append('MFI')\n",
    "header.append('AD')\n",
    "header.append('ADOSCILLATOR')\n",
    "header.append('ATR')\n",
    "header.append('OBV')\n",
    "header.append('STOCH')\n",
    "header.append('MOM')\n",
    "header.append('ROC')\n",
    "header.append('BOLLINGERUPPER')\n",
    "header.append('BOLLINGERMIDDLE')\n",
    "header.append('BOLLINGERLOWER')\n",
    "header.append('HILBERTTRENDLINE')\n",
    "header.append('WILLIAMR')"
   ]
  },
  {
   "cell_type": "code",
   "execution_count": 34,
   "metadata": {
    "collapsed": false
   },
   "outputs": [],
   "source": [
    "closeP = numpy.array(histPrice[\"Close\"], dtype='f8')\n",
    "highP = numpy.array(histPrice[\"High\"], dtype='f8')\n",
    "lowP = numpy.array(histPrice[\"Low\"], dtype='f8')\n",
    "volume = numpy.array(histPrice[\"Volume\"], dtype='f8')    \n",
    "            \n",
    "sma = talib.SMA(closeP,timeperiod=14)\n",
    "ema = talib.EMA(closeP,timeperiod=30)\n",
    "kama = talib.KAMA(closeP,timeperiod=30)\n",
    "adx = talib.ADX(highP,lowP,closeP,timeperiod=14)\n",
    "rsi = talib.RSI(closeP,timeperiod=14)\n",
    "cci = talib.CCI(highP,lowP,closeP,timeperiod=14)\n",
    "macd, signal, hist = talib.MACD(closeP,fastperiod=12,slowperiod=26,signalperiod=9)\n",
    "mfi = talib.MFI(highP,lowP,closeP,volume,timeperiod=14)\n",
    "ad = talib.AD(highP,lowP,closeP,volume)\n",
    "adOscillator = talib.ADOSC(highP,lowP,closeP,volume,fastperiod=3, slowperiod=10)\n",
    "atr = talib.ATR(highP,lowP,closeP,timeperiod=14)\n",
    "obv = talib.OBV(closeP,volume)\n",
    "slowk, slowd = talib.STOCH(highP,lowP,closeP,fastk_period=5, slowk_period=3, slowk_matype=0, slowd_period=3, slowd_matype=0)\n",
    "mom = talib.MOM(closeP,timeperiod=10)\n",
    "roc = talib.ROC(closeP,timeperiod=10)\n",
    "upperBB, middleBB, lowerBB = talib.BBANDS(closeP, matype=MA_Type.T3)\n",
    "hilbertTL = talib.HT_TRENDLINE(closeP)\n",
    "williamR = talib.WILLR(highP,lowP,closeP,timeperiod=14)\n",
    "            \n",
    "res = numpy.c_[histPrice,sma,ema,kama,adx,rsi,cci,macd,signal,hist,mfi,ad,adOscillator,atr,obv,slowk,slowd,mom,roc,upperBB,middleBB,lowerBB,hilbertTL,williamR]\n",
    "            \n",
    "records = res.tolist()"
   ]
  },
  {
   "cell_type": "code",
   "execution_count": 110,
   "metadata": {
    "collapsed": false
   },
   "outputs": [],
   "source": [
    "# Test one of the technical indicators predictive power\n",
    "Signal = numpy.append(float('NaN'),adOscillator)[:-1].copy()\n",
    "Signals = histPrice.copy().assign(Ind=Signal, signal=0, Return=histPrice[\"Close\"].pct_change()[2:]).dropna()\n",
    "Signals[\"signal\"] = Signals[\"Close\"] - Signals[\"Ind\"]\n",
    "\n"
   ]
  },
  {
   "cell_type": "code",
   "execution_count": 111,
   "metadata": {
    "collapsed": false
   },
   "outputs": [
    {
     "name": "stdout",
     "output_type": "stream",
     "text": [
      "                            OLS Regression Results                            \n",
      "==============================================================================\n",
      "Dep. Variable:                      y   R-squared:                       0.001\n",
      "Model:                            OLS   Adj. R-squared:                  0.000\n",
      "Method:                 Least Squares   F-statistic:                     2.714\n",
      "Date:                Tue, 11 Oct 2016   Prob (F-statistic):             0.0995\n",
      "Time:                        14:28:30   Log-Likelihood:                 12604.\n",
      "No. Observations:                4468   AIC:                        -2.521e+04\n",
      "Df Residuals:                    4467   BIC:                        -2.520e+04\n",
      "Df Model:                           1                                         \n",
      "Covariance Type:            nonrobust                                         \n",
      "==============================================================================\n",
      "                 coef    std err          t      P>|t|      [95.0% Conf. Int.]\n",
      "------------------------------------------------------------------------------\n",
      "x1          1.004e-10    6.1e-11      1.647      0.100     -1.91e-11   2.2e-10\n",
      "==============================================================================\n",
      "Omnibus:                      511.431   Durbin-Watson:                   2.010\n",
      "Prob(Omnibus):                  0.000   Jarque-Bera (JB):             4867.807\n",
      "Skew:                          -0.091   Prob(JB):                         0.00\n",
      "Kurtosis:                       8.110   Cond. No.                         1.00\n",
      "==============================================================================\n",
      "\n",
      "Warnings:\n",
      "[1] Standard Errors assume that the covariance matrix of the errors is correctly specified.\n"
     ]
    }
   ],
   "source": [
    "# Import package for OLS function to be used\n",
    "import statsmodels.formula.api as smf \n",
    "# Define an Logistic Regression model on the returns\n",
    "model = smf.OLS(numpy.array(Signals[\"Return\"][1:]), numpy.array(Signals[\"signal\"][:-1]))\n",
    "fit = model.fit() # Fit the model\n",
    "print(fit.summary()) # Print summary of the model"
   ]
  },
  {
   "cell_type": "code",
   "execution_count": null,
   "metadata": {
    "collapsed": false
   },
   "outputs": [],
   "source": []
  },
  {
   "cell_type": "code",
   "execution_count": null,
   "metadata": {
    "collapsed": true
   },
   "outputs": [],
   "source": []
  },
  {
   "cell_type": "code",
   "execution_count": null,
   "metadata": {
    "collapsed": false
   },
   "outputs": [],
   "source": []
  },
  {
   "cell_type": "code",
   "execution_count": null,
   "metadata": {
    "collapsed": true
   },
   "outputs": [],
   "source": []
  },
  {
   "cell_type": "code",
   "execution_count": null,
   "metadata": {
    "collapsed": true
   },
   "outputs": [],
   "source": []
  },
  {
   "cell_type": "code",
   "execution_count": 2,
   "metadata": {
    "collapsed": false
   },
   "outputs": [],
   "source": [
    "# Calculate a simple moving average of the close prices:\n",
    "output = talib.SMA(close)"
   ]
  },
  {
   "cell_type": "code",
   "execution_count": 3,
   "metadata": {
    "collapsed": true
   },
   "outputs": [],
   "source": [
    "# Calculating bollinger bands, with triple exponential moving average:\n",
    "from talib import MA_Type\n",
    "upper, middle, lower = talib.BBANDS(close, matype=MA_Type.T3)"
   ]
  },
  {
   "cell_type": "code",
   "execution_count": 4,
   "metadata": {
    "collapsed": false
   },
   "outputs": [],
   "source": [
    "# Calculating momentum of the close prices, with a time period of 5:\n",
    "output = talib.MOM(close, timeperiod=5)"
   ]
  },
  {
   "cell_type": "code",
   "execution_count": null,
   "metadata": {
    "collapsed": false
   },
   "outputs": [],
   "source": []
  },
  {
   "cell_type": "code",
   "execution_count": null,
   "metadata": {
    "collapsed": true
   },
   "outputs": [],
   "source": []
  }
 ],
 "metadata": {
  "kernelspec": {
   "display_name": "Python [Root]",
   "language": "python",
   "name": "Python [Root]"
  },
  "language_info": {
   "codemirror_mode": {
    "name": "ipython",
    "version": 3
   },
   "file_extension": ".py",
   "mimetype": "text/x-python",
   "name": "python",
   "nbconvert_exporter": "python",
   "pygments_lexer": "ipython3",
   "version": "3.5.2"
  }
 },
 "nbformat": 4,
 "nbformat_minor": 0
}
